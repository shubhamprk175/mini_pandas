{
 "cells": [
  {
   "cell_type": "markdown",
   "metadata": {},
   "source": [
    "# Test mini_pandas manually\n",
    "\n",
    "In this notebook, we will test mini_pandas manually."
   ]
  },
  {
   "cell_type": "code",
   "execution_count": 39,
   "metadata": {},
   "outputs": [
    {
     "data": {
      "text/plain": [
       "'/Users/Shubham/miniconda3/envs/mini_pandas/bin/python'"
      ]
     },
     "execution_count": 39,
     "metadata": {},
     "output_type": "execute_result"
    }
   ],
   "source": [
    "import sys\n",
    "sys.executable"
   ]
  },
  {
   "cell_type": "code",
   "execution_count": 40,
   "metadata": {},
   "outputs": [
    {
     "name": "stdout",
     "output_type": "stream",
     "text": [
      "The autoreload extension is already loaded. To reload it, use:\n",
      "  %reload_ext autoreload\n"
     ]
    }
   ],
   "source": [
    "%load_ext autoreload\n",
    "%autoreload 2"
   ]
  },
  {
   "cell_type": "code",
   "execution_count": 41,
   "metadata": {},
   "outputs": [],
   "source": [
    "import numpy as np\n",
    "import mini_pandas as mpd\n",
    "import mini_pandas_final as mpdf\n",
    "import pandas as pd"
   ]
  },
  {
   "cell_type": "code",
   "execution_count": 126,
   "metadata": {},
   "outputs": [],
   "source": [
    "name = np.array(['Penelope', 'Niko', 'Eleni'])\n",
    "state = np.array(['Texas', 'California', 'Texas'])\n",
    "height = np.array([3.6, 3.5, 5.2])\n",
    "school = np.array([True, False, True])\n",
    "weight = np.array([45, 40, 130])\n",
    "\n",
    "data = {'name': name, 'state': state, 'height': height, \n",
    "        'school': school, 'weight': weight}\n",
    "\n",
    "df = mpd.DataFrame(data)\n",
    "df_final = mpdf.DataFrame(data)\n",
    "df_pandas = pd.DataFrame(data)"
   ]
  },
  {
   "cell_type": "code",
   "execution_count": 43,
   "metadata": {},
   "outputs": [],
   "source": [
    "from numpy.testing import assert_array_equal"
   ]
  },
  {
   "cell_type": "code",
   "execution_count": 44,
   "metadata": {
    "scrolled": true
   },
   "outputs": [],
   "source": [
    "a = np.array(['abcd', 'a'])\n",
    "a = a.astype('O')\n",
    "b = np.array(['abcd', 'a']).astype('O')\n",
    "assert_array_equal(a, b)"
   ]
  },
  {
   "cell_type": "code",
   "execution_count": 45,
   "metadata": {},
   "outputs": [
    {
     "data": {
      "text/html": [
       "<table><thead><tr><th></th><th>name      </th><th>state     </th><th>height    </th><th>school    </th><th>weight    </th></tr></thead><tbody><tr><td><strong>0</strong></td><td>Penelope  </td><td>Texas     </td><td>     3.600</td><td>True</td><td>        45</td></tr><tr><td><strong>1</strong></td><td>Niko      </td><td>California</td><td>     3.500</td><td>False</td><td>        40</td></tr><tr><td><strong>2</strong></td><td>Eleni     </td><td>Texas     </td><td>     5.200</td><td>True</td><td>       130</td></tr></tbody></table>"
      ],
      "text/plain": [
       "<mini_pandas_final.DataFrame at 0x1198d5eb8>"
      ]
     },
     "execution_count": 45,
     "metadata": {},
     "output_type": "execute_result"
    }
   ],
   "source": [
    "df_final"
   ]
  },
  {
   "cell_type": "code",
   "execution_count": 46,
   "metadata": {
    "scrolled": true
   },
   "outputs": [
    {
     "data": {
      "text/html": [
       "<div>\n",
       "<style scoped>\n",
       "    .dataframe tbody tr th:only-of-type {\n",
       "        vertical-align: middle;\n",
       "    }\n",
       "\n",
       "    .dataframe tbody tr th {\n",
       "        vertical-align: top;\n",
       "    }\n",
       "\n",
       "    .dataframe thead th {\n",
       "        text-align: right;\n",
       "    }\n",
       "</style>\n",
       "<table border=\"1\" class=\"dataframe\">\n",
       "  <thead>\n",
       "    <tr style=\"text-align: right;\">\n",
       "      <th></th>\n",
       "      <th>name</th>\n",
       "      <th>state</th>\n",
       "      <th>height</th>\n",
       "      <th>school</th>\n",
       "      <th>weight</th>\n",
       "    </tr>\n",
       "  </thead>\n",
       "  <tbody>\n",
       "    <tr>\n",
       "      <th>0</th>\n",
       "      <td>Penelope</td>\n",
       "      <td>Texas</td>\n",
       "      <td>3.6</td>\n",
       "      <td>True</td>\n",
       "      <td>45</td>\n",
       "    </tr>\n",
       "    <tr>\n",
       "      <th>1</th>\n",
       "      <td>Niko</td>\n",
       "      <td>California</td>\n",
       "      <td>3.5</td>\n",
       "      <td>False</td>\n",
       "      <td>40</td>\n",
       "    </tr>\n",
       "    <tr>\n",
       "      <th>2</th>\n",
       "      <td>Eleni</td>\n",
       "      <td>Texas</td>\n",
       "      <td>5.2</td>\n",
       "      <td>True</td>\n",
       "      <td>130</td>\n",
       "    </tr>\n",
       "  </tbody>\n",
       "</table>\n",
       "</div>"
      ],
      "text/plain": [
       "       name       state  height  school  weight\n",
       "0  Penelope       Texas     3.6    True      45\n",
       "1      Niko  California     3.5   False      40\n",
       "2     Eleni       Texas     5.2    True     130"
      ]
     },
     "execution_count": 46,
     "metadata": {},
     "output_type": "execute_result"
    }
   ],
   "source": [
    "df_pandas"
   ]
  },
  {
   "cell_type": "code",
   "execution_count": 51,
   "metadata": {},
   "outputs": [],
   "source": [
    "df.columns = ['a', 'b', 'c', 'd', 'e']"
   ]
  },
  {
   "cell_type": "code",
   "execution_count": 50,
   "metadata": {},
   "outputs": [],
   "source": [
    "df_final.columns = ['a', 'b', 'c', 'd', 'e']"
   ]
  },
  {
   "cell_type": "code",
   "execution_count": 52,
   "metadata": {},
   "outputs": [
    {
     "data": {
      "text/plain": [
       "{'a': array(['Penelope', 'Niko', 'Eleni'], dtype=object),\n",
       " 'b': array(['Texas', 'California', 'Texas'], dtype=object),\n",
       " 'c': array([3.6, 3.5, 5.2]),\n",
       " 'd': array([ True, False,  True]),\n",
       " 'e': array([ 45,  40, 130])}"
      ]
     },
     "execution_count": 52,
     "metadata": {},
     "output_type": "execute_result"
    }
   ],
   "source": [
    "df._data"
   ]
  },
  {
   "cell_type": "code",
   "execution_count": 53,
   "metadata": {},
   "outputs": [
    {
     "data": {
      "text/plain": [
       "(3, 5)"
      ]
     },
     "execution_count": 53,
     "metadata": {},
     "output_type": "execute_result"
    }
   ],
   "source": [
    "df.shape"
   ]
  },
  {
   "cell_type": "code",
   "execution_count": 64,
   "metadata": {},
   "outputs": [
    {
     "data": {
      "text/plain": [
       "array([['Penelope', 'Texas', 3.6, True, 45],\n",
       "       ['Niko', 'California', 3.5, False, 40],\n",
       "       ['Eleni', 'Texas', 5.2, True, 130]], dtype=object)"
      ]
     },
     "execution_count": 64,
     "metadata": {},
     "output_type": "execute_result"
    }
   ],
   "source": [
    "df.values"
   ]
  },
  {
   "cell_type": "code",
   "execution_count": 62,
   "metadata": {},
   "outputs": [
    {
     "data": {
      "text/html": [
       "<table><thead><tr><th></th><th>a         </th><th>b         </th></tr></thead><tbody><tr><td><strong>0</strong></td><td>         0</td><td>         0</td></tr><tr><td><strong>1</strong></td><td>         1</td><td>         1</td></tr><tr><td><strong>2</strong></td><td>         2</td><td>         2</td></tr><tr><td><strong>3</strong></td><td>         3</td><td>         3</td></tr><tr><td><strong>4</strong></td><td>         4</td><td>         4</td></tr><tr><td><strong>5</strong></td><td>         5</td><td>         5</td></tr><tr><td><strong>6</strong></td><td>         6</td><td>         6</td></tr><tr><td><strong>7</strong></td><td>         7</td><td>         7</td></tr><tr><td><strong>8</strong></td><td>         8</td><td>         8</td></tr><tr><td><strong>9</strong></td><td>         9</td><td>         9</td></tr><tr><td><strong>10</strong></td><td>        10</td><td>        10</td></tr><tr><td><strong>11</strong></td><td>        11</td><td>        11</td></tr><tr><td><strong>12</strong></td><td>        12</td><td>        12</td></tr><tr><td><strong>13</strong></td><td>        13</td><td>        13</td></tr><tr><td><strong>14</strong></td><td>        14</td><td>        14</td></tr><tr><td><strong>15</strong></td><td>        15</td><td>        15</td></tr><tr><td><strong>16</strong></td><td>        16</td><td>        16</td></tr><tr><td><strong>17</strong></td><td>        17</td><td>        17</td></tr><tr><td><strong>18</strong></td><td>        18</td><td>        18</td></tr><tr><td><strong>19</strong></td><td>        19</td><td>        19</td></tr></tbody></table>"
      ],
      "text/plain": [
       "<mini_pandas.DataFrame at 0x119fdd320>"
      ]
     },
     "execution_count": 62,
     "metadata": {},
     "output_type": "execute_result"
    }
   ],
   "source": [
    "d = {'a': np.arange(20), 'b': np.arange(20)}\n",
    "dfd = mpd.DataFrame(d)\n",
    "dfd"
   ]
  },
  {
   "cell_type": "code",
   "execution_count": 66,
   "metadata": {},
   "outputs": [
    {
     "data": {
      "text/plain": [
       "name       object\n",
       "state      object\n",
       "height    float64\n",
       "school       bool\n",
       "weight      int64\n",
       "dtype: object"
      ]
     },
     "execution_count": 66,
     "metadata": {},
     "output_type": "execute_result"
    }
   ],
   "source": [
    "df_pandas.dtypes"
   ]
  },
  {
   "cell_type": "code",
   "execution_count": 70,
   "metadata": {},
   "outputs": [
    {
     "data": {
      "text/html": [
       "<table><thead><tr><th></th><th>Column Name</th><th>Data Type </th></tr></thead><tbody><tr><td><strong>0</strong></td><td>name      </td><td>string    </td></tr><tr><td><strong>1</strong></td><td>state     </td><td>string    </td></tr><tr><td><strong>2</strong></td><td>height    </td><td>float     </td></tr><tr><td><strong>3</strong></td><td>school    </td><td>bool      </td></tr><tr><td><strong>4</strong></td><td>weight    </td><td>int       </td></tr></tbody></table>"
      ],
      "text/plain": [
       "<mini_pandas.DataFrame at 0x119fed828>"
      ]
     },
     "execution_count": 70,
     "metadata": {},
     "output_type": "execute_result"
    }
   ],
   "source": [
    "df.dtypes"
   ]
  },
  {
   "cell_type": "code",
   "execution_count": 112,
   "metadata": {},
   "outputs": [
    {
     "data": {
      "text/html": [
       "<table><thead><tr><th></th><th>name      </th><th>state     </th><th>height    </th><th>school    </th><th>weight    </th></tr></thead><tbody><tr><td><strong>0</strong></td><td>Penelope  </td><td>Texas     </td><td>     3.600</td><td>True</td><td>        45</td></tr><tr><td><strong>1</strong></td><td>Niko      </td><td>California</td><td>     3.500</td><td>False</td><td>        40</td></tr><tr><td><strong>2</strong></td><td>Eleni     </td><td>Texas     </td><td>     5.200</td><td>True</td><td>       130</td></tr></tbody></table>"
      ],
      "text/plain": [
       "<mini_pandas.DataFrame at 0x11a385320>"
      ]
     },
     "execution_count": 112,
     "metadata": {},
     "output_type": "execute_result"
    }
   ],
   "source": [
    "df"
   ]
  },
  {
   "cell_type": "code",
   "execution_count": 135,
   "metadata": {},
   "outputs": [
    {
     "data": {
      "text/html": [
       "<div>\n",
       "<style scoped>\n",
       "    .dataframe tbody tr th:only-of-type {\n",
       "        vertical-align: middle;\n",
       "    }\n",
       "\n",
       "    .dataframe tbody tr th {\n",
       "        vertical-align: top;\n",
       "    }\n",
       "\n",
       "    .dataframe thead th {\n",
       "        text-align: right;\n",
       "    }\n",
       "</style>\n",
       "<table border=\"1\" class=\"dataframe\">\n",
       "  <thead>\n",
       "    <tr style=\"text-align: right;\">\n",
       "      <th></th>\n",
       "      <th>name</th>\n",
       "      <th>state</th>\n",
       "      <th>height</th>\n",
       "      <th>school</th>\n",
       "      <th>weight</th>\n",
       "    </tr>\n",
       "  </thead>\n",
       "  <tbody>\n",
       "    <tr>\n",
       "      <th>0</th>\n",
       "      <td>Penelope</td>\n",
       "      <td>Texas</td>\n",
       "      <td>3.6</td>\n",
       "      <td>True</td>\n",
       "      <td>45</td>\n",
       "    </tr>\n",
       "    <tr>\n",
       "      <th>1</th>\n",
       "      <td>Niko</td>\n",
       "      <td>California</td>\n",
       "      <td>3.5</td>\n",
       "      <td>False</td>\n",
       "      <td>40</td>\n",
       "    </tr>\n",
       "    <tr>\n",
       "      <th>2</th>\n",
       "      <td>Eleni</td>\n",
       "      <td>Texas</td>\n",
       "      <td>5.2</td>\n",
       "      <td>True</td>\n",
       "      <td>130</td>\n",
       "    </tr>\n",
       "  </tbody>\n",
       "</table>\n",
       "</div>"
      ],
      "text/plain": [
       "       name       state  height  school  weight\n",
       "0  Penelope       Texas     3.6    True      45\n",
       "1      Niko  California     3.5   False      40\n",
       "2     Eleni       Texas     5.2    True     130"
      ]
     },
     "execution_count": 135,
     "metadata": {},
     "output_type": "execute_result"
    }
   ],
   "source": [
    "df_pandas"
   ]
  },
  {
   "cell_type": "code",
   "execution_count": 145,
   "metadata": {},
   "outputs": [
    {
     "data": {
      "text/html": [
       "<table><thead><tr><th></th><th>name      </th><th>state     </th><th>height    </th><th>school    </th><th>weight    </th></tr></thead><tbody><tr><td><strong>0</strong></td><td>Penelope  </td><td>New York  </td><td>     3.600</td><td>True</td><td>        45</td></tr><tr><td><strong>1</strong></td><td>Niko      </td><td>New York  </td><td>     3.500</td><td>False</td><td>        40</td></tr><tr><td><strong>2</strong></td><td>Eleni     </td><td>New York  </td><td>     5.200</td><td>True</td><td>       130</td></tr></tbody></table>"
      ],
      "text/plain": [
       "<mini_pandas.DataFrame at 0x119f0bb38>"
      ]
     },
     "execution_count": 145,
     "metadata": {},
     "output_type": "execute_result"
    }
   ],
   "source": [
    "df['state'] = 'New York'\n",
    "df"
   ]
  },
  {
   "cell_type": "code",
   "execution_count": 147,
   "metadata": {},
   "outputs": [
    {
     "data": {
      "text/html": [
       "<table><thead><tr><th></th><th>name      </th><th>state     </th><th>height    </th><th>school    </th><th>weight    </th><th>district  </th></tr></thead><tbody><tr><td><strong>0</strong></td><td>Penelope  </td><td>New York  </td><td>     3.600</td><td>True</td><td>        45</td><td>buffalo   </td></tr><tr><td><strong>1</strong></td><td>Niko      </td><td>New York  </td><td>     3.500</td><td>False</td><td>        40</td><td>rochester </td></tr><tr><td><strong>2</strong></td><td>Eleni     </td><td>New York  </td><td>     5.200</td><td>True</td><td>       130</td><td>syracuse  </td></tr></tbody></table>"
      ],
      "text/plain": [
       "<mini_pandas.DataFrame at 0x119f0bb38>"
      ]
     },
     "execution_count": 147,
     "metadata": {},
     "output_type": "execute_result"
    }
   ],
   "source": [
    "df['district'] = np.array(['buffalo', 'rochester', 'syracuse'])\n",
    "df"
   ]
  },
  {
   "cell_type": "code",
   "execution_count": 148,
   "metadata": {},
   "outputs": [
    {
     "data": {
      "text/html": [
       "<table><thead><tr><th></th><th>name      </th><th>state     </th><th>height    </th><th>school    </th><th>weight    </th><th>district  </th><th>sex ratio </th></tr></thead><tbody><tr><td><strong>0</strong></td><td>Penelope  </td><td>New York  </td><td>     3.600</td><td>True</td><td>        45</td><td>buffalo   </td><td>     4.323</td></tr><tr><td><strong>1</strong></td><td>Niko      </td><td>New York  </td><td>     3.500</td><td>False</td><td>        40</td><td>rochester </td><td>     4.323</td></tr><tr><td><strong>2</strong></td><td>Eleni     </td><td>New York  </td><td>     5.200</td><td>True</td><td>       130</td><td>syracuse  </td><td>     4.323</td></tr></tbody></table>"
      ],
      "text/plain": [
       "<mini_pandas.DataFrame at 0x119f0bb38>"
      ]
     },
     "execution_count": 148,
     "metadata": {},
     "output_type": "execute_result"
    }
   ],
   "source": [
    "df['sex ratio'] = 4.3233333423048\n",
    "df"
   ]
  },
  {
   "cell_type": "code",
   "execution_count": 161,
   "metadata": {},
   "outputs": [
    {
     "data": {
      "text/html": [
       "<table><thead><tr><th></th><th>name      </th><th>state     </th><th>height    </th><th>school    </th><th>weight    </th><th>district  </th><th>sex ratio </th></tr></thead><tbody><tr><td><strong>0</strong></td><td>Penelope  </td><td>New York  </td><td>     3.600</td><td>True</td><td>        45</td><td>buffalo   </td><td>     4.323</td></tr><tr><td><strong>1</strong></td><td>Niko      </td><td>New York  </td><td>     3.500</td><td>False</td><td>        40</td><td>rochester </td><td>     4.323</td></tr><tr><td><strong>2</strong></td><td>Eleni     </td><td>New York  </td><td>     5.200</td><td>True</td><td>       130</td><td>syracuse  </td><td>     4.323</td></tr></tbody></table>"
      ],
      "text/plain": [
       "<mini_pandas.DataFrame at 0x11a36bba8>"
      ]
     },
     "execution_count": 161,
     "metadata": {},
     "output_type": "execute_result"
    }
   ],
   "source": [
    "df.tail(300)"
   ]
  },
  {
   "cell_type": "code",
   "execution_count": 170,
   "metadata": {},
   "outputs": [
    {
     "data": {
      "text/html": [
       "<div>\n",
       "<style scoped>\n",
       "    .dataframe tbody tr th:only-of-type {\n",
       "        vertical-align: middle;\n",
       "    }\n",
       "\n",
       "    .dataframe tbody tr th {\n",
       "        vertical-align: top;\n",
       "    }\n",
       "\n",
       "    .dataframe thead th {\n",
       "        text-align: right;\n",
       "    }\n",
       "</style>\n",
       "<table border=\"1\" class=\"dataframe\">\n",
       "  <thead>\n",
       "    <tr style=\"text-align: right;\">\n",
       "      <th></th>\n",
       "      <th>name</th>\n",
       "      <th>state</th>\n",
       "      <th>height</th>\n",
       "      <th>school</th>\n",
       "      <th>weight</th>\n",
       "    </tr>\n",
       "  </thead>\n",
       "  <tbody>\n",
       "    <tr>\n",
       "      <th>0</th>\n",
       "      <td>False</td>\n",
       "      <td>False</td>\n",
       "      <td>False</td>\n",
       "      <td>False</td>\n",
       "      <td>False</td>\n",
       "    </tr>\n",
       "    <tr>\n",
       "      <th>1</th>\n",
       "      <td>False</td>\n",
       "      <td>False</td>\n",
       "      <td>False</td>\n",
       "      <td>False</td>\n",
       "      <td>False</td>\n",
       "    </tr>\n",
       "    <tr>\n",
       "      <th>2</th>\n",
       "      <td>False</td>\n",
       "      <td>False</td>\n",
       "      <td>False</td>\n",
       "      <td>False</td>\n",
       "      <td>False</td>\n",
       "    </tr>\n",
       "  </tbody>\n",
       "</table>\n",
       "</div>"
      ],
      "text/plain": [
       "    name  state  height  school  weight\n",
       "0  False  False   False   False   False\n",
       "1  False  False   False   False   False\n",
       "2  False  False   False   False   False"
      ]
     },
     "execution_count": 170,
     "metadata": {},
     "output_type": "execute_result"
    }
   ],
   "source": [
    "df_pandas.isna()"
   ]
  },
  {
   "cell_type": "code",
   "execution_count": 169,
   "metadata": {},
   "outputs": [
    {
     "data": {
      "text/html": [
       "<table><thead><tr><th></th><th>name      </th><th>state     </th><th>height    </th><th>school    </th><th>weight    </th><th>district  </th><th>sex ratio </th></tr></thead><tbody><tr><td><strong>0</strong></td><td>PenelopeNikoEleni</td><td>New YorkNew YorkNew York</td><td>    12.300</td><td>         2</td><td>       215</td><td>buffalorochestersyracuse</td><td>    12.970</td></tr></tbody></table>"
      ],
      "text/plain": [
       "<mini_pandas.DataFrame at 0x11aaca748>"
      ]
     },
     "execution_count": 169,
     "metadata": {},
     "output_type": "execute_result"
    }
   ],
   "source": [
    "df.sum()"
   ]
  },
  {
   "cell_type": "code",
   "execution_count": 171,
   "metadata": {},
   "outputs": [
    {
     "data": {
      "text/html": [
       "<table><thead><tr><th></th><th>name      </th><th>state     </th><th>height    </th><th>school    </th><th>weight    </th><th>district  </th><th>sex ratio </th></tr></thead><tbody><tr><td><strong>0</strong></td><td>False</td><td>False</td><td>False</td><td>False</td><td>False</td><td>False</td><td>False</td></tr><tr><td><strong>1</strong></td><td>False</td><td>False</td><td>False</td><td>False</td><td>False</td><td>False</td><td>False</td></tr><tr><td><strong>2</strong></td><td>False</td><td>False</td><td>False</td><td>False</td><td>False</td><td>False</td><td>False</td></tr></tbody></table>"
      ],
      "text/plain": [
       "<mini_pandas.DataFrame at 0x11aaca780>"
      ]
     },
     "execution_count": 171,
     "metadata": {},
     "output_type": "execute_result"
    }
   ],
   "source": [
    "df.isna()"
   ]
  },
  {
   "cell_type": "code",
   "execution_count": 172,
   "metadata": {},
   "outputs": [],
   "source": [
    "df['haan']=np.array([2, None, 3])"
   ]
  },
  {
   "cell_type": "code",
   "execution_count": 214,
   "metadata": {},
   "outputs": [
    {
     "data": {
      "text/html": [
       "<table><thead><tr><th></th><th>name      </th><th>state     </th><th>height    </th><th>school    </th><th>weight    </th><th>district  </th><th>sex ratio </th><th>haan      </th></tr></thead><tbody><tr><td><strong>0</strong></td><td>False</td><td>False</td><td>False</td><td>False</td><td>False</td><td>False</td><td>False</td><td>False</td></tr><tr><td><strong>1</strong></td><td>False</td><td>False</td><td>False</td><td>False</td><td>False</td><td>False</td><td>False</td><td>False</td></tr><tr><td><strong>2</strong></td><td>False</td><td>False</td><td>False</td><td>False</td><td>False</td><td>False</td><td>False</td><td>False</td></tr></tbody></table>"
      ],
      "text/plain": [
       "<mini_pandas.DataFrame at 0x11bbeaf60>"
      ]
     },
     "execution_count": 214,
     "metadata": {},
     "output_type": "execute_result"
    }
   ],
   "source": [
    "df.isna()"
   ]
  },
  {
   "cell_type": "code",
   "execution_count": 183,
   "metadata": {},
   "outputs": [],
   "source": [
    "a = np.array([1, 2, None, np.NaN])\n",
    "b = np.array([1, 3, np.NaN])"
   ]
  },
  {
   "cell_type": "code",
   "execution_count": 184,
   "metadata": {},
   "outputs": [
    {
     "data": {
      "text/plain": [
       "array([False, False,  True])"
      ]
     },
     "execution_count": 184,
     "metadata": {},
     "output_type": "execute_result"
    }
   ],
   "source": [
    "np.isnan(b)"
   ]
  },
  {
   "cell_type": "code",
   "execution_count": 187,
   "metadata": {},
   "outputs": [
    {
     "data": {
      "text/html": [
       "<table><thead><tr><th></th><th>name      </th><th>state     </th><th>height    </th><th>school    </th><th>weight    </th><th>district  </th><th>sex ratio </th><th>haan      </th></tr></thead><tbody><tr><td><strong>0</strong></td><td>         3</td><td>         3</td><td>         3</td><td>         3</td><td>         3</td><td>         3</td><td>         3</td><td>         2</td></tr></tbody></table>"
      ],
      "text/plain": [
       "<mini_pandas.DataFrame at 0x11b40f940>"
      ]
     },
     "execution_count": 187,
     "metadata": {},
     "output_type": "execute_result"
    }
   ],
   "source": [
    "df.count()"
   ]
  },
  {
   "cell_type": "code",
   "execution_count": 202,
   "metadata": {},
   "outputs": [
    {
     "data": {
      "text/plain": [
       "Penelope    1\n",
       "Eleni       1\n",
       "Niko        1\n",
       "Name: name, dtype: int64"
      ]
     },
     "execution_count": 202,
     "metadata": {},
     "output_type": "execute_result"
    }
   ],
   "source": [
    "df_pandas.name.value_counts()"
   ]
  },
  {
   "cell_type": "code",
   "execution_count": 213,
   "metadata": {},
   "outputs": [
    {
     "data": {
      "text/html": [
       "<table><thead><tr><th></th><th>school    </th><th>count     </th></tr></thead><tbody><tr><td><strong>0</strong></td><td>True</td><td>     0.667</td></tr><tr><td><strong>1</strong></td><td>False</td><td>     0.333</td></tr></tbody></table>"
      ],
      "text/plain": [
       "<mini_pandas.DataFrame at 0x11bb80da0>"
      ]
     },
     "execution_count": 213,
     "metadata": {},
     "output_type": "execute_result"
    }
   ],
   "source": [
    "df.value_counts(normalize=True)[3]"
   ]
  },
  {
   "cell_type": "code",
   "execution_count": 191,
   "metadata": {},
   "outputs": [
    {
     "data": {
      "text/html": [
       "<table><thead><tr><th></th><th>name      </th><th>state     </th><th>height    </th><th>school    </th><th>weight    </th><th>district  </th><th>sex ratio </th><th>haan      </th></tr></thead><tbody><tr><td><strong>0</strong></td><td>Penelope  </td><td>New York  </td><td>     3.600</td><td>True</td><td>        45</td><td>buffalo   </td><td>     4.323</td><td>         2</td></tr><tr><td><strong>1</strong></td><td>Niko      </td><td>New York  </td><td>     3.500</td><td>False</td><td>        40</td><td>rochester </td><td>     4.323</td><td>None      </td></tr><tr><td><strong>2</strong></td><td>Eleni     </td><td>New York  </td><td>     5.200</td><td>True</td><td>       130</td><td>syracuse  </td><td>     4.323</td><td>         3</td></tr></tbody></table>"
      ],
      "text/plain": [
       "<mini_pandas.DataFrame at 0x119f0bb38>"
      ]
     },
     "execution_count": 191,
     "metadata": {},
     "output_type": "execute_result"
    }
   ],
   "source": [
    "df"
   ]
  },
  {
   "cell_type": "code",
   "execution_count": 192,
   "metadata": {},
   "outputs": [],
   "source": [
    "df['haan'] = np.array([2,3,4])"
   ]
  },
  {
   "cell_type": "code",
   "execution_count": 200,
   "metadata": {},
   "outputs": [
    {
     "data": {
      "text/html": [
       "<table><thead><tr><th></th><th>name      </th><th>state     </th><th>height    </th><th>school    </th><th>weight    </th><th>district  </th><th>sex ratio </th><th>haan      </th></tr></thead><tbody><tr><td><strong>0</strong></td><td>         3</td><td>         1</td><td>         3</td><td>         2</td><td>         3</td><td>         3</td><td>         1</td><td>         3</td></tr></tbody></table>"
      ],
      "text/plain": [
       "<mini_pandas.DataFrame at 0x11bb98438>"
      ]
     },
     "execution_count": 200,
     "metadata": {},
     "output_type": "execute_result"
    }
   ],
   "source": [
    "df.nunique()"
   ]
  },
  {
   "cell_type": "code",
   "execution_count": 215,
   "metadata": {},
   "outputs": [
    {
     "data": {
      "text/html": [
       "<table><thead><tr><th></th><th>name      </th><th>state     </th><th>height    </th><th>school    </th><th>weight    </th><th>district  </th><th>sex ratio </th></tr></thead><tbody><tr><td><strong>0</strong></td><td>Penelope  </td><td>New York  </td><td>     3.600</td><td>True</td><td>        45</td><td>buffalo   </td><td>     4.323</td></tr><tr><td><strong>1</strong></td><td>Niko      </td><td>New York  </td><td>     3.500</td><td>False</td><td>        40</td><td>rochester </td><td>     4.323</td></tr><tr><td><strong>2</strong></td><td>Eleni     </td><td>New York  </td><td>     5.200</td><td>True</td><td>       130</td><td>syracuse  </td><td>     4.323</td></tr></tbody></table>"
      ],
      "text/plain": [
       "<mini_pandas.DataFrame at 0x119430198>"
      ]
     },
     "execution_count": 215,
     "metadata": {},
     "output_type": "execute_result"
    }
   ],
   "source": [
    "df.drop('haan')"
   ]
  },
  {
   "cell_type": "code",
   "execution_count": 217,
   "metadata": {},
   "outputs": [],
   "source": [
    "df = df.drop('haan')"
   ]
  },
  {
   "cell_type": "code",
   "execution_count": 219,
   "metadata": {},
   "outputs": [
    {
     "data": {
      "text/html": [
       "<table><thead><tr><th></th><th>first_name</th><th>state     </th><th>height    </th><th>school    </th><th>weight    </th><th>district  </th><th>sex ratio </th></tr></thead><tbody><tr><td><strong>0</strong></td><td>Penelope  </td><td>New York  </td><td>     3.600</td><td>True</td><td>        45</td><td>buffalo   </td><td>     4.323</td></tr><tr><td><strong>1</strong></td><td>Niko      </td><td>New York  </td><td>     3.500</td><td>False</td><td>        40</td><td>rochester </td><td>     4.323</td></tr><tr><td><strong>2</strong></td><td>Eleni     </td><td>New York  </td><td>     5.200</td><td>True</td><td>       130</td><td>syracuse  </td><td>     4.323</td></tr></tbody></table>"
      ],
      "text/plain": [
       "<mini_pandas.DataFrame at 0x11a362240>"
      ]
     },
     "execution_count": 219,
     "metadata": {},
     "output_type": "execute_result"
    }
   ],
   "source": [
    "df.rename({'name':'first_name'})\n"
   ]
  },
  {
   "cell_type": "code",
   "execution_count": 223,
   "metadata": {},
   "outputs": [],
   "source": [
    "df['state'] = np.array(['NY', np.NaN, 'CA'])"
   ]
  },
  {
   "cell_type": "code",
   "execution_count": 224,
   "metadata": {},
   "outputs": [
    {
     "data": {
      "text/html": [
       "<table><thead><tr><th></th><th>name      </th><th>state     </th><th>height    </th><th>school    </th><th>weight    </th><th>district  </th><th>sex ratio </th></tr></thead><tbody><tr><td><strong>0</strong></td><td>Penelope  </td><td>NY        </td><td>     3.600</td><td>True</td><td>        45</td><td>buffalo   </td><td>     4.323</td></tr><tr><td><strong>1</strong></td><td>Niko      </td><td>nan       </td><td>     3.500</td><td>False</td><td>        40</td><td>rochester </td><td>     4.323</td></tr><tr><td><strong>2</strong></td><td>Eleni     </td><td>CA        </td><td>     5.200</td><td>True</td><td>       130</td><td>syracuse  </td><td>     4.323</td></tr></tbody></table>"
      ],
      "text/plain": [
       "<mini_pandas.DataFrame at 0x11aaa7978>"
      ]
     },
     "execution_count": 224,
     "metadata": {},
     "output_type": "execute_result"
    }
   ],
   "source": [
    "df"
   ]
  },
  {
   "cell_type": "code",
   "execution_count": 225,
   "metadata": {},
   "outputs": [],
   "source": [
    "df['sex ratio'] = np.array([4.32, np.NaN, 5.22])"
   ]
  },
  {
   "cell_type": "code",
   "execution_count": 246,
   "metadata": {},
   "outputs": [
    {
     "data": {
      "text/html": [
       "<table><thead><tr><th></th><th>name      </th><th>state     </th><th>height    </th><th>school    </th><th>weight    </th><th>district  </th><th>sex ratio </th></tr></thead><tbody><tr><td><strong>0</strong></td><td>Penelope  </td><td>NY        </td><td>     3.600</td><td>True</td><td>        45</td><td>buffalo   </td><td>     4.320</td></tr><tr><td><strong>1</strong></td><td>Niko      </td><td>nan       </td><td>     3.600</td><td>False</td><td>        45</td><td>rochester </td><td>       nan</td></tr><tr><td><strong>2</strong></td><td>Eleni     </td><td>CA        </td><td>     5.200</td><td>True</td><td>       130</td><td>syracuse  </td><td>     5.220</td></tr></tbody></table>"
      ],
      "text/plain": [
       "<mini_pandas.DataFrame at 0x11b02fcf8>"
      ]
     },
     "execution_count": 246,
     "metadata": {},
     "output_type": "execute_result"
    }
   ],
   "source": [
    "df.cummax()"
   ]
  },
  {
   "cell_type": "code",
   "execution_count": 245,
   "metadata": {},
   "outputs": [
    {
     "data": {
      "text/html": [
       "<table><thead><tr><th></th><th>name      </th><th>state     </th><th>height    </th><th>school    </th><th>weight    </th><th>district  </th><th>sex ratio </th></tr></thead><tbody><tr><td><strong>0</strong></td><td>Penelope  </td><td>NY        </td><td>     3.600</td><td>True</td><td>        45</td><td>buffalo   </td><td>     4.320</td></tr><tr><td><strong>1</strong></td><td>Niko      </td><td>nan       </td><td>     3.500</td><td>False</td><td>        40</td><td>rochester </td><td>       nan</td></tr><tr><td><strong>2</strong></td><td>Eleni     </td><td>CA        </td><td>     3.500</td><td>True</td><td>        40</td><td>syracuse  </td><td>     0.000</td></tr></tbody></table>"
      ],
      "text/plain": [
       "<mini_pandas.DataFrame at 0x11b02f908>"
      ]
     },
     "execution_count": 245,
     "metadata": {},
     "output_type": "execute_result"
    }
   ],
   "source": [
    "df.cummin()"
   ]
  },
  {
   "cell_type": "code",
   "execution_count": 243,
   "metadata": {},
   "outputs": [
    {
     "data": {
      "text/html": [
       "<table><thead><tr><th></th><th>name      </th><th>state     </th><th>height    </th><th>school    </th><th>weight    </th><th>district  </th><th>sex ratio </th></tr></thead><tbody><tr><td><strong>0</strong></td><td>Penelope  </td><td>NY        </td><td>     3.600</td><td>True</td><td>        45</td><td>buffalo   </td><td>     4.320</td></tr><tr><td><strong>1</strong></td><td>Niko      </td><td>nan       </td><td>     7.100</td><td>False</td><td>        85</td><td>rochester </td><td>       nan</td></tr><tr><td><strong>2</strong></td><td>Eleni     </td><td>CA        </td><td>    12.300</td><td>True</td><td>       215</td><td>syracuse  </td><td>     9.540</td></tr></tbody></table>"
      ],
      "text/plain": [
       "<mini_pandas.DataFrame at 0x11abc7c18>"
      ]
     },
     "execution_count": 243,
     "metadata": {},
     "output_type": "execute_result"
    }
   ],
   "source": [
    "df.cumsum()"
   ]
  },
  {
   "cell_type": "code",
   "execution_count": 250,
   "metadata": {},
   "outputs": [
    {
     "data": {
      "text/html": [
       "<table><thead><tr><th></th><th>name      </th><th>state     </th><th>height    </th><th>school    </th><th>weight    </th><th>district  </th><th>sex ratio </th></tr></thead><tbody><tr><td><strong>0</strong></td><td>Penelope  </td><td>NY        </td><td>     1.000</td><td>True</td><td>         1</td><td>buffalo   </td><td>     1.000</td></tr><tr><td><strong>1</strong></td><td>Niko      </td><td>nan       </td><td>     1.000</td><td>False</td><td>         1</td><td>rochester </td><td>       nan</td></tr><tr><td><strong>2</strong></td><td>Eleni     </td><td>CA        </td><td>     1.000</td><td>True</td><td>         1</td><td>syracuse  </td><td>     1.000</td></tr></tbody></table>"
      ],
      "text/plain": [
       "<mini_pandas.DataFrame at 0x11bbc02e8>"
      ]
     },
     "execution_count": 250,
     "metadata": {},
     "output_type": "execute_result"
    }
   ],
   "source": []
  },
  {
   "cell_type": "code",
   "execution_count": 257,
   "metadata": {},
   "outputs": [
    {
     "data": {
      "text/html": [
       "<table><thead><tr><th></th><th>name      </th><th>state     </th><th>height    </th><th>school    </th><th>weight    </th><th>district  </th><th>sex ratio </th></tr></thead><tbody><tr><td><strong>0</strong></td><td>Penelope  </td><td>NY        </td><td>     3.600</td><td>True</td><td>        45</td><td>buffalo   </td><td>     4.320</td></tr><tr><td><strong>1</strong></td><td>Niko      </td><td>nan       </td><td>     3.500</td><td>False</td><td>        40</td><td>rochester </td><td>       nan</td></tr><tr><td><strong>2</strong></td><td>Eleni     </td><td>CA        </td><td>     5.200</td><td>True</td><td>       130</td><td>syracuse  </td><td>     5.220</td></tr></tbody></table>"
      ],
      "text/plain": [
       "<mini_pandas.DataFrame at 0x11aaa7978>"
      ]
     },
     "execution_count": 257,
     "metadata": {},
     "output_type": "execute_result"
    }
   ],
   "source": [
    "df"
   ]
  },
  {
   "cell_type": "code",
   "execution_count": 262,
   "metadata": {},
   "outputs": [
    {
     "data": {
      "text/html": [
       "<table><thead><tr><th></th><th>name      </th><th>state     </th><th>height    </th><th>school    </th><th>weight    </th><th>district  </th><th>sex ratio </th></tr></thead><tbody><tr><td><strong>0</strong></td><td>Penelope  </td><td>NY        </td><td>   604.662</td><td>True</td><td> 184528125</td><td>buffalo   </td><td>  1504.592</td></tr><tr><td><strong>1</strong></td><td>Niko      </td><td>nan       </td><td>   525.219</td><td>False</td><td> 102400000</td><td>rochester </td><td>       nan</td></tr><tr><td><strong>2</strong></td><td>Eleni     </td><td>CA        </td><td>  3802.040</td><td>True</td><td>37129300000</td><td>syracuse  </td><td>  3875.721</td></tr></tbody></table>"
      ],
      "text/plain": [
       "<mini_pandas.DataFrame at 0x11aaadef0>"
      ]
     },
     "execution_count": 262,
     "metadata": {},
     "output_type": "execute_result"
    }
   ],
   "source": [
    "df**5"
   ]
  },
  {
   "cell_type": "code",
   "execution_count": 265,
   "metadata": {},
   "outputs": [],
   "source": [
    "data = {'yo' : np.array([1,2,3])}\n",
    "df1 = mpd.DataFrame(data)"
   ]
  },
  {
   "cell_type": "code",
   "execution_count": 272,
   "metadata": {},
   "outputs": [
    {
     "data": {
      "text/html": [
       "<table><thead><tr><th></th><th>name      </th><th>state     </th><th>height    </th><th>school    </th><th>weight    </th><th>district  </th><th>sex ratio </th></tr></thead><tbody><tr><td><strong>0</strong></td><td>Penelope  </td><td>NY        </td><td>     3.600</td><td>True</td><td>        45</td><td>buffalo   </td><td>     4.320</td></tr><tr><td><strong>1</strong></td><td>Niko      </td><td>nan       </td><td>     3.500</td><td>False</td><td>        40</td><td>rochester </td><td>       nan</td></tr><tr><td><strong>2</strong></td><td>Eleni     </td><td>CA        </td><td>     5.200</td><td>True</td><td>       130</td><td>syracuse  </td><td>     5.220</td></tr></tbody></table>"
      ],
      "text/plain": [
       "<mini_pandas.DataFrame at 0x11aaa7978>"
      ]
     },
     "execution_count": 272,
     "metadata": {},
     "output_type": "execute_result"
    }
   ],
   "source": [
    "df"
   ]
  },
  {
   "cell_type": "code",
   "execution_count": 277,
   "metadata": {},
   "outputs": [
    {
     "data": {
      "text/html": [
       "<table><thead><tr><th></th><th>name      </th><th>state     </th><th>height    </th><th>school    </th><th>weight    </th><th>district  </th><th>sex ratio </th></tr></thead><tbody><tr><td><strong>0</strong></td><td>Eleni     </td><td>CA        </td><td>     5.200</td><td>True</td><td>       130</td><td>syracuse  </td><td>     5.220</td></tr><tr><td><strong>1</strong></td><td>Penelope  </td><td>NY        </td><td>     3.600</td><td>True</td><td>        45</td><td>buffalo   </td><td>     4.320</td></tr><tr><td><strong>2</strong></td><td>Niko      </td><td>nan       </td><td>     3.500</td><td>False</td><td>        40</td><td>rochester </td><td>       nan</td></tr></tbody></table>"
      ],
      "text/plain": [
       "<mini_pandas.DataFrame at 0x119f2cf98>"
      ]
     },
     "execution_count": 277,
     "metadata": {},
     "output_type": "execute_result"
    }
   ],
   "source": [
    "df.sort_values(['weight', 'height'], reverse=True)"
   ]
  },
  {
   "cell_type": "code",
   "execution_count": null,
   "metadata": {},
   "outputs": [],
   "source": []
  },
  {
   "cell_type": "code",
   "execution_count": null,
   "metadata": {},
   "outputs": [],
   "source": []
  }
 ],
 "metadata": {
  "kernelspec": {
   "display_name": "Python 3",
   "language": "python",
   "name": "python3"
  },
  "language_info": {
   "codemirror_mode": {
    "name": "ipython",
    "version": 3
   },
   "file_extension": ".py",
   "mimetype": "text/x-python",
   "name": "python",
   "nbconvert_exporter": "python",
   "pygments_lexer": "ipython3",
   "version": "3.6.9"
  }
 },
 "nbformat": 4,
 "nbformat_minor": 2
}
